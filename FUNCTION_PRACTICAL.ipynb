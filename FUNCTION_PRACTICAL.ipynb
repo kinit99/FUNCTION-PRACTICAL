{
  "nbformat": 4,
  "nbformat_minor": 0,
  "metadata": {
    "colab": {
      "provenance": []
    },
    "kernelspec": {
      "name": "python3",
      "display_name": "Python 3"
    },
    "language_info": {
      "name": "python"
    }
  },
  "cells": [
    {
      "cell_type": "markdown",
      "source": [
        "**QUES_01** Write a Python function that takes a list of numbers as input and returns the sum of all even numbers in\n",
        "the list."
      ],
      "metadata": {
        "id": "tCMOOOvsl9IO"
      }
    },
    {
      "cell_type": "code",
      "source": [
        "#ANS\n",
        "#Here's a short Python function that takes a list of numbers as input and returns the sum of all even numbers in the list:\n",
        "def sum_of_even_numbers(numbers):\n",
        "    return sum(filter(lambda x: x % 2 == 0, numbers))\n",
        "\n",
        "# Example usage\n",
        "numbers = [1, 2, 3, 4, 5, 6]\n",
        "result = sum_of_even_numbers(numbers)\n",
        "print(result)  # Output: 12\n"
      ],
      "metadata": {
        "colab": {
          "base_uri": "https://localhost:8080/"
        },
        "id": "XVB69g3WmCfq",
        "outputId": "855e5a61-0b89-4fee-f959-f1bd142fd5fa"
      },
      "execution_count": 1,
      "outputs": [
        {
          "output_type": "stream",
          "name": "stdout",
          "text": [
            "12\n"
          ]
        }
      ]
    },
    {
      "cell_type": "markdown",
      "source": [
        "**QUES_02** Create a Python function that accepts a string and returns the reverse of that string."
      ],
      "metadata": {
        "id": "bcAF9TMTmPhV"
      }
    },
    {
      "cell_type": "code",
      "source": [
        "#ANS\n",
        "#Here is a short Python function that accepts a string and returns the reverse of that string:\n",
        "def reverse_string(s):\n",
        "    return s[::-1]\n",
        "\n",
        "# Example usage\n",
        "example_string = \"hello\"\n",
        "reversed_string = reverse_string(example_string)\n",
        "print(reversed_string)  # Output: \"olleh\"\n"
      ],
      "metadata": {
        "colab": {
          "base_uri": "https://localhost:8080/"
        },
        "id": "789Nqyx7mfn6",
        "outputId": "1b13a85c-864c-4d17-89e4-4a563cd39a25"
      },
      "execution_count": 2,
      "outputs": [
        {
          "output_type": "stream",
          "name": "stdout",
          "text": [
            "olleh\n"
          ]
        }
      ]
    },
    {
      "cell_type": "markdown",
      "source": [
        "**QUES_03** Implement a Python function that takes a list of integers and returns a new list containing the squares of each number."
      ],
      "metadata": {
        "id": "Xpi2zgYXms4Q"
      }
    },
    {
      "cell_type": "code",
      "source": [
        "#ANS\n",
        "#Python function that takes a list of integers and returns a new list containing the squares of each number:\n",
        "def square_numbers(numbers):\n",
        "    return [x * x for x in numbers]\n",
        "\n",
        "# Example usage\n",
        "numbers = [1, 2, 3, 4]\n",
        "squared_numbers = square_numbers(numbers)\n",
        "print(squared_numbers)  # Output: [1, 4, 9, 16]\n"
      ],
      "metadata": {
        "colab": {
          "base_uri": "https://localhost:8080/"
        },
        "id": "p35kLUHXm_Rw",
        "outputId": "061e7e3c-8a70-4b99-8037-5575c17e937b"
      },
      "execution_count": 3,
      "outputs": [
        {
          "output_type": "stream",
          "name": "stdout",
          "text": [
            "[1, 4, 9, 16]\n"
          ]
        }
      ]
    },
    {
      "cell_type": "markdown",
      "source": [
        "**QUES_04** Write a Python function that checks if a given number is prime or not from 1 to 200."
      ],
      "metadata": {
        "id": "8soTHMwAnIN8"
      }
    },
    {
      "cell_type": "code",
      "source": [
        "#ANS\n",
        "#Python function that checks if a given number is prime:\n",
        "def is_prime(n):\n",
        "    if n <= 1:\n",
        "        return False\n",
        "    for i in range(2, int(n**0.5) + 1):\n",
        "        if n % i == 0:\n",
        "            return False\n",
        "    return True\n",
        "\n",
        "# Example usage\n",
        "number = 29\n",
        "print(is_prime(number))  # Output: True\n",
        "\n",
        "# Check prime numbers from 1 to 200\n",
        "primes = [num for num in range(1, 201) if is_prime(num)]\n",
        "print(primes)\n"
      ],
      "metadata": {
        "colab": {
          "base_uri": "https://localhost:8080/"
        },
        "id": "_jIwJMEJnV2Z",
        "outputId": "55365e0b-8088-4080-d59c-6617a6428624"
      },
      "execution_count": 4,
      "outputs": [
        {
          "output_type": "stream",
          "name": "stdout",
          "text": [
            "True\n",
            "[2, 3, 5, 7, 11, 13, 17, 19, 23, 29, 31, 37, 41, 43, 47, 53, 59, 61, 67, 71, 73, 79, 83, 89, 97, 101, 103, 107, 109, 113, 127, 131, 137, 139, 149, 151, 157, 163, 167, 173, 179, 181, 191, 193, 197, 199]\n"
          ]
        }
      ]
    },
    {
      "cell_type": "markdown",
      "source": [
        "**QUES_05** Create an iterator class in Python that generates the Fibonacci sequence up to a specified number of terms."
      ],
      "metadata": {
        "id": "U9uh4ofcnd7H"
      }
    },
    {
      "cell_type": "code",
      "source": [
        "#ANS\n",
        "#solution that creates an iterator class in Python to generate the Fibonacci sequence up to a specified number of terms:\n",
        "class Fibonacci:\n",
        "    def __init__(self, num_terms):\n",
        "        self.num_terms = num_terms\n",
        "        self.current = 0\n",
        "        self.next = 1\n",
        "        self.count = 0\n",
        "\n",
        "    def __iter__(self):\n",
        "        return self\n",
        "\n",
        "    def __next__(self):\n",
        "        if self.count >= self.num_terms:\n",
        "            raise StopIteration\n",
        "        fib = self.current\n",
        "        self.current, self.next = self.next, self.current + self.next\n",
        "        self.count += 1\n",
        "        return fib\n",
        "\n",
        "# Example usage\n",
        "fib_iterator = Fibonacci(10)\n",
        "for number in fib_iterator:\n",
        "    print(number)\n"
      ],
      "metadata": {
        "colab": {
          "base_uri": "https://localhost:8080/"
        },
        "id": "KcWBLXTGntWP",
        "outputId": "1215010a-b173-4148-8bdf-2f5000296807"
      },
      "execution_count": 5,
      "outputs": [
        {
          "output_type": "stream",
          "name": "stdout",
          "text": [
            "0\n",
            "1\n",
            "1\n",
            "2\n",
            "3\n",
            "5\n",
            "8\n",
            "13\n",
            "21\n",
            "34\n"
          ]
        }
      ]
    },
    {
      "cell_type": "markdown",
      "source": [
        "**QUES_06** Write a generator function in Python that yields the powers of 2 up to a given exponent."
      ],
      "metadata": {
        "id": "2unH_qHmn1yP"
      }
    },
    {
      "cell_type": "code",
      "source": [
        "#ANS\n",
        "#solution that defines a generator function in Python to yield the powers of 2 up to a given exponent:\n",
        "def powers_of_two(max_exponent):\n",
        "    for exponent in range(max_exponent + 1):\n",
        "        yield 2 ** exponent\n",
        "\n",
        "# Example usage\n",
        "for power in powers_of_two(5):\n",
        "    print(power)\n"
      ],
      "metadata": {
        "colab": {
          "base_uri": "https://localhost:8080/"
        },
        "id": "Otb8Ix5OoDnU",
        "outputId": "9dcf36b0-8351-4913-8a7e-98634827eb69"
      },
      "execution_count": 6,
      "outputs": [
        {
          "output_type": "stream",
          "name": "stdout",
          "text": [
            "1\n",
            "2\n",
            "4\n",
            "8\n",
            "16\n",
            "32\n"
          ]
        }
      ]
    },
    {
      "cell_type": "markdown",
      "source": [
        "**QUES_07** Implement a generator function that reads a file line by line and yields each line as a string."
      ],
      "metadata": {
        "id": "VVVMLvdmoLiu"
      }
    },
    {
      "cell_type": "markdown",
      "source": [
        "#ANS\n",
        "#solution that defines a generator function in Python to read a file line by line and yield each line as a string:\n",
        "\n",
        "def read_lines(filename):\n",
        "    \n",
        "    with open(filename, 'r') as file:\n",
        "        \n",
        "        for line in file:\n",
        "            \n",
        "            yield line.strip()\n",
        "\n",
        "# Example usage\n",
        "\n",
        "for line in read_lines('example.txt'):\n",
        "    \n",
        "    print(line)"
      ],
      "metadata": {
        "id": "AKXiISlGpC9H"
      }
    },
    {
      "cell_type": "markdown",
      "source": [
        "**QUES_08** Use a lambda function in Python to sort a list of tuples based on the second element of each tuple."
      ],
      "metadata": {
        "id": "C9iZKld-ogXI"
      }
    },
    {
      "cell_type": "code",
      "source": [
        "#ANS\n",
        "#solution that uses a lambda function to sort a list of tuples based on the second element of each tuple:\n",
        "# List of tuples\n",
        "tuples_list = [(1, 'banana'), (3, 'apple'), (2, 'cherry')]\n",
        "\n",
        "# Sorting the list of tuples based on the second element\n",
        "sorted_list = sorted(tuples_list, key=lambda x: x[1])\n",
        "\n",
        "# Example usage\n",
        "print(sorted_list)  # Output: [(3, 'apple'), (1, 'banana'), (2, 'cherry')]\n"
      ],
      "metadata": {
        "colab": {
          "base_uri": "https://localhost:8080/"
        },
        "id": "V18oHgXjpadr",
        "outputId": "ade6f6cc-fcd4-4cb7-fabf-8c2b25d7949f"
      },
      "execution_count": 11,
      "outputs": [
        {
          "output_type": "stream",
          "name": "stdout",
          "text": [
            "[(3, 'apple'), (1, 'banana'), (2, 'cherry')]\n"
          ]
        }
      ]
    },
    {
      "cell_type": "markdown",
      "source": [
        "**QUES_09** Write a Python program that uses map() to convert a list of temperatures from Celsius to Fahrenheit."
      ],
      "metadata": {
        "id": "kQtDEb45pkWC"
      }
    },
    {
      "cell_type": "code",
      "source": [
        "#ANS\n",
        "#Python program that uses map() to convert a list of temperatures from Celsius to Fahrenheit:\n",
        "# List of temperatures in Celsius\n",
        "celsius_temps = [0, 20, 37, 100]\n",
        "\n",
        "# Convert Celsius to Fahrenheit using map() and a lambda function\n",
        "fahrenheit_temps = list(map(lambda c: (c * 9/5) + 32, celsius_temps))\n",
        "\n",
        "# Example usage\n",
        "print(fahrenheit_temps)  # Output: [32.0, 68.0, 98.6, 212.0]\n"
      ],
      "metadata": {
        "colab": {
          "base_uri": "https://localhost:8080/"
        },
        "id": "T7Vocv5gpzks",
        "outputId": "a06de382-7e16-44f8-bec7-7336b49b3504"
      },
      "execution_count": 12,
      "outputs": [
        {
          "output_type": "stream",
          "name": "stdout",
          "text": [
            "[32.0, 68.0, 98.6, 212.0]\n"
          ]
        }
      ]
    },
    {
      "cell_type": "markdown",
      "source": [
        "**QUES_10** Create a Python program that uses filter() to remove all the vowels from a given string."
      ],
      "metadata": {
        "id": "1ryu0id0p99r"
      }
    },
    {
      "cell_type": "code",
      "source": [
        "#ANS\n",
        "#Python program that uses filter() to remove all the vowels from a given string:\n",
        "def remove_vowels(s):\n",
        "    vowels = 'aeiouAEIOU'\n",
        "    return ''.join(filter(lambda char: char not in vowels, s))\n",
        "\n",
        "# Example usage\n",
        "input_string = \"Hello, World!\"\n",
        "filtered_string = remove_vowels(input_string)\n",
        "print(filtered_string)  # Output: \"Hll, Wrld!\"\n"
      ],
      "metadata": {
        "colab": {
          "base_uri": "https://localhost:8080/"
        },
        "id": "Cpdn7meHqOrI",
        "outputId": "696e9afe-ed22-460f-f5a1-4f67243f8e3c"
      },
      "execution_count": 13,
      "outputs": [
        {
          "output_type": "stream",
          "name": "stdout",
          "text": [
            "Hll, Wrld!\n"
          ]
        }
      ]
    },
    {
      "cell_type": "markdown",
      "source": [
        "**QUES_11** Imagine an accounting routine used in a book shop. It works on a list with sublists, which look like this:\n",
        "\n",
        "Order Number\n",
        "\n",
        "Book Title and Author\n",
        "\n",
        "Quantity\n",
        "\n",
        "4\n",
        "\n",
        "Price per Item\n",
        "\n",
        "34587\n",
        "\n",
        "Learning Python, Mark Lutz\n",
        "\n",
        "40.95\n",
        "\n",
        "98762\n",
        "\n",
        "Programming Python, Mark Lutz\n",
        "\n",
        "5\n",
        "\n",
        "56.80\n",
        "\n",
        "77226\n",
        "\n",
        "Head First Python, Paul Barry\n",
        "\n",
        "3\n",
        "\n",
        "32.95\n",
        "\n",
        "88112\n",
        "\n",
        "Einführung in Python3, Bernd Klein\n",
        "\n",
        "3\n",
        "\n",
        "24.99\n",
        "\n",
        "Write a Python program, which returns a list with 2-tuples. Each tuple consists of the order number and the product of the price per item and the quantity. The product should be increased by 10,- € if the value of the order is smaller than 100,00 €.\n",
        "\n",
        "Write a Python program using lambda and map"
      ],
      "metadata": {
        "id": "B4dt9QkiqXBw"
      }
    },
    {
      "cell_type": "markdown",
      "source": [
        "**ANS_** Here’s a Python program that uses lambda and map() to achieve the desired functionality. The program processes a list of sublists containing book order details and returns a list of 2-tuples, where each tuple contains the order number and the adjusted total price."
      ],
      "metadata": {
        "id": "vx1ZfSwurb3B"
      }
    },
    {
      "cell_type": "code",
      "source": [
        "# Sample data\n",
        "orders = [\n",
        "    [34587, \"Learning Python, Mark Lutz\", 40, 95],\n",
        "    [98762, \"Programming Python, Mark Lutz\", 5, 56.80],\n",
        "    [77226, \"Head First Python, Paul Barry\", 3, 32.95],\n",
        "    [88112, \"Einführung in Python3, Bernd Klein\", 3, 24.99]\n",
        "]\n",
        "\n",
        "# Function to calculate total price with adjustment\n",
        "def calculate_total(order):\n",
        "    order_number, _, quantity, price_per_item = order\n",
        "    total = quantity * price_per_item\n",
        "    if total < 100:\n",
        "        total += 10\n",
        "    return (order_number, total)\n",
        "\n",
        "# Use map to apply the function to each order\n",
        "result = list(map(lambda order: calculate_total(order), orders))\n",
        "\n",
        "# Example usage\n",
        "print(result)  # Output: [(34587, 1638.0), (98762, 284.0), (77226, 98.85), (88112, 84.97)]\n"
      ],
      "metadata": {
        "colab": {
          "base_uri": "https://localhost:8080/"
        },
        "id": "NHJlXTIurlID",
        "outputId": "a8dd1775-86bc-4682-c79d-1d93ba9965f0"
      },
      "execution_count": 14,
      "outputs": [
        {
          "output_type": "stream",
          "name": "stdout",
          "text": [
            "[(34587, 3800), (98762, 284.0), (77226, 108.85000000000001), (88112, 84.97)]\n"
          ]
        }
      ]
    },
    {
      "cell_type": "markdown",
      "source": [
        "Explanation:\n",
        "\n",
        "orders: A list of sublists containing order details.\n",
        "\n",
        "calculate_total(order): A function that computes the total price for each order and adds €10 if the total is less than €100.\n",
        "\n",
        "map(lambda order: calculate_total(order), orders): Uses map() with a lambda function to apply calculate_total to each sublist in orders.\n",
        "\n",
        "list(map(...)): Converts the map object to a list of 2-tuples.\n",
        "\n",
        "Each tuple in the resulting list contains the order number and the adjusted total price, as specified."
      ],
      "metadata": {
        "id": "ZTz1Lh-brwUw"
      }
    }
  ]
}